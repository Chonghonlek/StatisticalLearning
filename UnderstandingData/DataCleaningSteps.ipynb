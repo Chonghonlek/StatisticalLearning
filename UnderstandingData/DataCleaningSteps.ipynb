{
 "cells": [
  {
   "cell_type": "markdown",
   "metadata": {},
   "source": [
    "Data Cleaning/Data Preprocessing Before Building a Model - A Comprehensive Guide\n",
    "\n",
    "by Ankith https://www.youtube.com/watch?v=GP-2634exqA&list=LL&index=5"
   ]
  },
  {
   "cell_type": "markdown",
   "metadata": {},
   "source": [
    "Data preprocessing is an important step for building machine learning models\n",
    "\n",
    "Steps:\n",
    "\n",
    "1. import necessary library\n",
    "2. read dataset\n",
    "3. sanity check of data\n",
    "4. exploratory data analysis\n",
    "5. Missing value treatment\n",
    "6. Outliers treatment\n",
    "7. Duplicates and garbage value treatment\n",
    "8. Normalization\n",
    "9. Encoding of data"
   ]
  },
  {
   "cell_type": "markdown",
   "metadata": {},
   "source": [
    "## step1  import libraries"
   ]
  },
  {
   "cell_type": "code",
   "execution_count": 4,
   "metadata": {},
   "outputs": [],
   "source": [
    "import pandas as pd\n",
    "import numpy as np\n",
    "import seaborn as sns\n",
    "import matplotlib.pyplot as plt"
   ]
  },
  {
   "cell_type": "markdown",
   "metadata": {},
   "source": [
    "## Step 2 import data"
   ]
  },
  {
   "cell_type": "code",
   "execution_count": 5,
   "metadata": {},
   "outputs": [
    {
     "name": "stderr",
     "output_type": "stream",
     "text": [
      "C:\\Users\\lionel\\AppData\\Local\\Temp\\ipykernel_19448\\1163275744.py:1: UserWarning: Could not infer format, so each element will be parsed individually, falling back to `dateutil`. To ensure parsing is consistent and as-expected, please specify a format.\n",
      "  data = pd.read_csv(\"fundamentals.csv\",index_col =0,parse_dates=True)\n"
     ]
    },
    {
     "data": {
      "text/html": [
       "<div>\n",
       "<style scoped>\n",
       "    .dataframe tbody tr th:only-of-type {\n",
       "        vertical-align: middle;\n",
       "    }\n",
       "\n",
       "    .dataframe tbody tr th {\n",
       "        vertical-align: top;\n",
       "    }\n",
       "\n",
       "    .dataframe thead th {\n",
       "        text-align: right;\n",
       "    }\n",
       "</style>\n",
       "<table border=\"1\" class=\"dataframe\">\n",
       "  <thead>\n",
       "    <tr style=\"text-align: right;\">\n",
       "      <th></th>\n",
       "      <th>Ticker Symbol</th>\n",
       "      <th>Period Ending</th>\n",
       "      <th>Accounts Payable</th>\n",
       "      <th>Accounts Receivable</th>\n",
       "      <th>Add'l income/expense items</th>\n",
       "      <th>After Tax ROE</th>\n",
       "      <th>Capital Expenditures</th>\n",
       "      <th>Capital Surplus</th>\n",
       "      <th>Cash Ratio</th>\n",
       "      <th>Cash and Cash Equivalents</th>\n",
       "      <th>...</th>\n",
       "      <th>Total Current Assets</th>\n",
       "      <th>Total Current Liabilities</th>\n",
       "      <th>Total Equity</th>\n",
       "      <th>Total Liabilities</th>\n",
       "      <th>Total Liabilities &amp; Equity</th>\n",
       "      <th>Total Revenue</th>\n",
       "      <th>Treasury Stock</th>\n",
       "      <th>For Year</th>\n",
       "      <th>Earnings Per Share</th>\n",
       "      <th>Estimated Shares Outstanding</th>\n",
       "    </tr>\n",
       "  </thead>\n",
       "  <tbody>\n",
       "    <tr>\n",
       "      <th>0</th>\n",
       "      <td>AAL</td>\n",
       "      <td>2012-12-31</td>\n",
       "      <td>3.068000e+09</td>\n",
       "      <td>-222000000.0</td>\n",
       "      <td>-1.961000e+09</td>\n",
       "      <td>23.0</td>\n",
       "      <td>-1.888000e+09</td>\n",
       "      <td>4.695000e+09</td>\n",
       "      <td>53.0</td>\n",
       "      <td>1.330000e+09</td>\n",
       "      <td>...</td>\n",
       "      <td>7.072000e+09</td>\n",
       "      <td>9.011000e+09</td>\n",
       "      <td>-7.987000e+09</td>\n",
       "      <td>2.489100e+10</td>\n",
       "      <td>1.690400e+10</td>\n",
       "      <td>2.485500e+10</td>\n",
       "      <td>-367000000.0</td>\n",
       "      <td>2012.0</td>\n",
       "      <td>-5.60</td>\n",
       "      <td>3.350000e+08</td>\n",
       "    </tr>\n",
       "    <tr>\n",
       "      <th>1</th>\n",
       "      <td>AAL</td>\n",
       "      <td>2013-12-31</td>\n",
       "      <td>4.975000e+09</td>\n",
       "      <td>-93000000.0</td>\n",
       "      <td>-2.723000e+09</td>\n",
       "      <td>67.0</td>\n",
       "      <td>-3.114000e+09</td>\n",
       "      <td>1.059200e+10</td>\n",
       "      <td>75.0</td>\n",
       "      <td>2.175000e+09</td>\n",
       "      <td>...</td>\n",
       "      <td>1.432300e+10</td>\n",
       "      <td>1.380600e+10</td>\n",
       "      <td>-2.731000e+09</td>\n",
       "      <td>4.500900e+10</td>\n",
       "      <td>4.227800e+10</td>\n",
       "      <td>2.674300e+10</td>\n",
       "      <td>0.0</td>\n",
       "      <td>2013.0</td>\n",
       "      <td>-11.25</td>\n",
       "      <td>1.630222e+08</td>\n",
       "    </tr>\n",
       "    <tr>\n",
       "      <th>2</th>\n",
       "      <td>AAL</td>\n",
       "      <td>2014-12-31</td>\n",
       "      <td>4.668000e+09</td>\n",
       "      <td>-160000000.0</td>\n",
       "      <td>-1.500000e+08</td>\n",
       "      <td>143.0</td>\n",
       "      <td>-5.311000e+09</td>\n",
       "      <td>1.513500e+10</td>\n",
       "      <td>60.0</td>\n",
       "      <td>1.768000e+09</td>\n",
       "      <td>...</td>\n",
       "      <td>1.175000e+10</td>\n",
       "      <td>1.340400e+10</td>\n",
       "      <td>2.021000e+09</td>\n",
       "      <td>4.120400e+10</td>\n",
       "      <td>4.322500e+10</td>\n",
       "      <td>4.265000e+10</td>\n",
       "      <td>0.0</td>\n",
       "      <td>2014.0</td>\n",
       "      <td>4.02</td>\n",
       "      <td>7.169154e+08</td>\n",
       "    </tr>\n",
       "    <tr>\n",
       "      <th>3</th>\n",
       "      <td>AAL</td>\n",
       "      <td>2015-12-31</td>\n",
       "      <td>5.102000e+09</td>\n",
       "      <td>352000000.0</td>\n",
       "      <td>-7.080000e+08</td>\n",
       "      <td>135.0</td>\n",
       "      <td>-6.151000e+09</td>\n",
       "      <td>1.159100e+10</td>\n",
       "      <td>51.0</td>\n",
       "      <td>1.085000e+09</td>\n",
       "      <td>...</td>\n",
       "      <td>9.985000e+09</td>\n",
       "      <td>1.360500e+10</td>\n",
       "      <td>5.635000e+09</td>\n",
       "      <td>4.278000e+10</td>\n",
       "      <td>4.841500e+10</td>\n",
       "      <td>4.099000e+10</td>\n",
       "      <td>0.0</td>\n",
       "      <td>2015.0</td>\n",
       "      <td>11.39</td>\n",
       "      <td>6.681299e+08</td>\n",
       "    </tr>\n",
       "    <tr>\n",
       "      <th>4</th>\n",
       "      <td>AAP</td>\n",
       "      <td>2012-12-29</td>\n",
       "      <td>2.409453e+09</td>\n",
       "      <td>-89482000.0</td>\n",
       "      <td>6.000000e+05</td>\n",
       "      <td>32.0</td>\n",
       "      <td>-2.711820e+08</td>\n",
       "      <td>5.202150e+08</td>\n",
       "      <td>23.0</td>\n",
       "      <td>5.981110e+08</td>\n",
       "      <td>...</td>\n",
       "      <td>3.184200e+09</td>\n",
       "      <td>2.559638e+09</td>\n",
       "      <td>1.210694e+09</td>\n",
       "      <td>3.403120e+09</td>\n",
       "      <td>4.613814e+09</td>\n",
       "      <td>6.205003e+09</td>\n",
       "      <td>-27095000.0</td>\n",
       "      <td>2012.0</td>\n",
       "      <td>5.29</td>\n",
       "      <td>7.328355e+07</td>\n",
       "    </tr>\n",
       "  </tbody>\n",
       "</table>\n",
       "<p>5 rows × 78 columns</p>\n",
       "</div>"
      ],
      "text/plain": [
       "  Ticker Symbol Period Ending  Accounts Payable  Accounts Receivable  \\\n",
       "0           AAL    2012-12-31      3.068000e+09         -222000000.0   \n",
       "1           AAL    2013-12-31      4.975000e+09          -93000000.0   \n",
       "2           AAL    2014-12-31      4.668000e+09         -160000000.0   \n",
       "3           AAL    2015-12-31      5.102000e+09          352000000.0   \n",
       "4           AAP    2012-12-29      2.409453e+09          -89482000.0   \n",
       "\n",
       "   Add'l income/expense items  After Tax ROE  Capital Expenditures  \\\n",
       "0               -1.961000e+09           23.0         -1.888000e+09   \n",
       "1               -2.723000e+09           67.0         -3.114000e+09   \n",
       "2               -1.500000e+08          143.0         -5.311000e+09   \n",
       "3               -7.080000e+08          135.0         -6.151000e+09   \n",
       "4                6.000000e+05           32.0         -2.711820e+08   \n",
       "\n",
       "   Capital Surplus  Cash Ratio  Cash and Cash Equivalents  ...  \\\n",
       "0     4.695000e+09        53.0               1.330000e+09  ...   \n",
       "1     1.059200e+10        75.0               2.175000e+09  ...   \n",
       "2     1.513500e+10        60.0               1.768000e+09  ...   \n",
       "3     1.159100e+10        51.0               1.085000e+09  ...   \n",
       "4     5.202150e+08        23.0               5.981110e+08  ...   \n",
       "\n",
       "   Total Current Assets  Total Current Liabilities  Total Equity  \\\n",
       "0          7.072000e+09               9.011000e+09 -7.987000e+09   \n",
       "1          1.432300e+10               1.380600e+10 -2.731000e+09   \n",
       "2          1.175000e+10               1.340400e+10  2.021000e+09   \n",
       "3          9.985000e+09               1.360500e+10  5.635000e+09   \n",
       "4          3.184200e+09               2.559638e+09  1.210694e+09   \n",
       "\n",
       "   Total Liabilities  Total Liabilities & Equity  Total Revenue  \\\n",
       "0       2.489100e+10                1.690400e+10   2.485500e+10   \n",
       "1       4.500900e+10                4.227800e+10   2.674300e+10   \n",
       "2       4.120400e+10                4.322500e+10   4.265000e+10   \n",
       "3       4.278000e+10                4.841500e+10   4.099000e+10   \n",
       "4       3.403120e+09                4.613814e+09   6.205003e+09   \n",
       "\n",
       "   Treasury Stock  For Year  Earnings Per Share  Estimated Shares Outstanding  \n",
       "0    -367000000.0    2012.0               -5.60                  3.350000e+08  \n",
       "1             0.0    2013.0              -11.25                  1.630222e+08  \n",
       "2             0.0    2014.0                4.02                  7.169154e+08  \n",
       "3             0.0    2015.0               11.39                  6.681299e+08  \n",
       "4     -27095000.0    2012.0                5.29                  7.328355e+07  \n",
       "\n",
       "[5 rows x 78 columns]"
      ]
     },
     "execution_count": 5,
     "metadata": {},
     "output_type": "execute_result"
    }
   ],
   "source": [
    "data = pd.read_csv(\"fundamentals.csv\",index_col =0,parse_dates=True)\n",
    "data.head()"
   ]
  },
  {
   "cell_type": "code",
   "execution_count": 6,
   "metadata": {},
   "outputs": [
    {
     "data": {
      "text/html": [
       "<div>\n",
       "<style scoped>\n",
       "    .dataframe tbody tr th:only-of-type {\n",
       "        vertical-align: middle;\n",
       "    }\n",
       "\n",
       "    .dataframe tbody tr th {\n",
       "        vertical-align: top;\n",
       "    }\n",
       "\n",
       "    .dataframe thead th {\n",
       "        text-align: right;\n",
       "    }\n",
       "</style>\n",
       "<table border=\"1\" class=\"dataframe\">\n",
       "  <thead>\n",
       "    <tr style=\"text-align: right;\">\n",
       "      <th></th>\n",
       "      <th>symbol</th>\n",
       "      <th>open</th>\n",
       "      <th>close</th>\n",
       "      <th>low</th>\n",
       "      <th>high</th>\n",
       "      <th>volume</th>\n",
       "    </tr>\n",
       "    <tr>\n",
       "      <th>date</th>\n",
       "      <th></th>\n",
       "      <th></th>\n",
       "      <th></th>\n",
       "      <th></th>\n",
       "      <th></th>\n",
       "      <th></th>\n",
       "    </tr>\n",
       "  </thead>\n",
       "  <tbody>\n",
       "    <tr>\n",
       "      <th>2016-01-05</th>\n",
       "      <td>WLTW</td>\n",
       "      <td>123.430000</td>\n",
       "      <td>125.839996</td>\n",
       "      <td>122.309998</td>\n",
       "      <td>126.250000</td>\n",
       "      <td>2163600.0</td>\n",
       "    </tr>\n",
       "    <tr>\n",
       "      <th>2016-01-06</th>\n",
       "      <td>WLTW</td>\n",
       "      <td>125.239998</td>\n",
       "      <td>119.980003</td>\n",
       "      <td>119.940002</td>\n",
       "      <td>125.540001</td>\n",
       "      <td>2386400.0</td>\n",
       "    </tr>\n",
       "    <tr>\n",
       "      <th>2016-01-07</th>\n",
       "      <td>WLTW</td>\n",
       "      <td>116.379997</td>\n",
       "      <td>114.949997</td>\n",
       "      <td>114.930000</td>\n",
       "      <td>119.739998</td>\n",
       "      <td>2489500.0</td>\n",
       "    </tr>\n",
       "    <tr>\n",
       "      <th>2016-01-08</th>\n",
       "      <td>WLTW</td>\n",
       "      <td>115.480003</td>\n",
       "      <td>116.620003</td>\n",
       "      <td>113.500000</td>\n",
       "      <td>117.440002</td>\n",
       "      <td>2006300.0</td>\n",
       "    </tr>\n",
       "    <tr>\n",
       "      <th>2016-01-11</th>\n",
       "      <td>WLTW</td>\n",
       "      <td>117.010002</td>\n",
       "      <td>114.970001</td>\n",
       "      <td>114.089996</td>\n",
       "      <td>117.330002</td>\n",
       "      <td>1408600.0</td>\n",
       "    </tr>\n",
       "  </tbody>\n",
       "</table>\n",
       "</div>"
      ],
      "text/plain": [
       "           symbol        open       close         low        high     volume\n",
       "date                                                                        \n",
       "2016-01-05   WLTW  123.430000  125.839996  122.309998  126.250000  2163600.0\n",
       "2016-01-06   WLTW  125.239998  119.980003  119.940002  125.540001  2386400.0\n",
       "2016-01-07   WLTW  116.379997  114.949997  114.930000  119.739998  2489500.0\n",
       "2016-01-08   WLTW  115.480003  116.620003  113.500000  117.440002  2006300.0\n",
       "2016-01-11   WLTW  117.010002  114.970001  114.089996  117.330002  1408600.0"
      ]
     },
     "execution_count": 6,
     "metadata": {},
     "output_type": "execute_result"
    }
   ],
   "source": [
    "data1 = pd.read_csv(\"prices-split-adjusted.csv\",index_col=0,parse_dates=True)\n",
    "data1.head()"
   ]
  },
  {
   "cell_type": "code",
   "execution_count": 5,
   "metadata": {},
   "outputs": [
    {
     "name": "stdout",
     "output_type": "stream",
     "text": [
      "<class 'pandas.core.frame.DataFrame'>\n",
      "DatetimeIndex: 851264 entries, 2016-01-05 to 2016-12-30\n",
      "Data columns (total 6 columns):\n",
      " #   Column  Non-Null Count   Dtype  \n",
      "---  ------  --------------   -----  \n",
      " 0   symbol  851264 non-null  object \n",
      " 1   open    851264 non-null  float64\n",
      " 2   close   851264 non-null  float64\n",
      " 3   low     851264 non-null  float64\n",
      " 4   high    851264 non-null  float64\n",
      " 5   volume  851264 non-null  float64\n",
      "dtypes: float64(5), object(1)\n",
      "memory usage: 45.5+ MB\n"
     ]
    }
   ],
   "source": [
    "data1.info()"
   ]
  },
  {
   "cell_type": "markdown",
   "metadata": {},
   "source": [
    "## Step 3 - sanity check of data\n",
    "\n",
    "3.1 - shape (attribute) and info (method) of data\n",
    "3.2 - finding missing values using isnull\n",
    "3.3 - finding duplicates\n",
    "3.4 - finding garbage values"
   ]
  },
  {
   "cell_type": "code",
   "execution_count": 6,
   "metadata": {},
   "outputs": [
    {
     "data": {
      "text/plain": [
       "(1781, 78)"
      ]
     },
     "execution_count": 6,
     "metadata": {},
     "output_type": "execute_result"
    }
   ],
   "source": [
    "data.shape\n"
   ]
  },
  {
   "cell_type": "code",
   "execution_count": 7,
   "metadata": {},
   "outputs": [
    {
     "name": "stdout",
     "output_type": "stream",
     "text": [
      "<class 'pandas.core.frame.DataFrame'>\n",
      "Index: 1781 entries, 0 to 1780\n",
      "Data columns (total 78 columns):\n",
      " #   Column                                               Non-Null Count  Dtype  \n",
      "---  ------                                               --------------  -----  \n",
      " 0   Ticker Symbol                                        1781 non-null   object \n",
      " 1   Period Ending                                        1781 non-null   object \n",
      " 2   Accounts Payable                                     1781 non-null   float64\n",
      " 3   Accounts Receivable                                  1781 non-null   float64\n",
      " 4   Add'l income/expense items                           1781 non-null   float64\n",
      " 5   After Tax ROE                                        1781 non-null   float64\n",
      " 6   Capital Expenditures                                 1781 non-null   float64\n",
      " 7   Capital Surplus                                      1781 non-null   float64\n",
      " 8   Cash Ratio                                           1482 non-null   float64\n",
      " 9   Cash and Cash Equivalents                            1781 non-null   float64\n",
      " 10  Changes in Inventories                               1781 non-null   float64\n",
      " 11  Common Stocks                                        1781 non-null   float64\n",
      " 12  Cost of Revenue                                      1781 non-null   float64\n",
      " 13  Current Ratio                                        1482 non-null   float64\n",
      " 14  Deferred Asset Charges                               1781 non-null   float64\n",
      " 15  Deferred Liability Charges                           1781 non-null   float64\n",
      " 16  Depreciation                                         1781 non-null   float64\n",
      " 17  Earnings Before Interest and Tax                     1781 non-null   float64\n",
      " 18  Earnings Before Tax                                  1781 non-null   float64\n",
      " 19  Effect of Exchange Rate                              1781 non-null   float64\n",
      " 20  Equity Earnings/Loss Unconsolidated Subsidiary       1781 non-null   float64\n",
      " 21  Fixed Assets                                         1781 non-null   float64\n",
      " 22  Goodwill                                             1781 non-null   float64\n",
      " 23  Gross Margin                                         1781 non-null   float64\n",
      " 24  Gross Profit                                         1781 non-null   float64\n",
      " 25  Income Tax                                           1781 non-null   float64\n",
      " 26  Intangible Assets                                    1781 non-null   float64\n",
      " 27  Interest Expense                                     1781 non-null   float64\n",
      " 28  Inventory                                            1781 non-null   float64\n",
      " 29  Investments                                          1781 non-null   float64\n",
      " 30  Liabilities                                          1781 non-null   float64\n",
      " 31  Long-Term Debt                                       1781 non-null   float64\n",
      " 32  Long-Term Investments                                1781 non-null   float64\n",
      " 33  Minority Interest                                    1781 non-null   float64\n",
      " 34  Misc. Stocks                                         1781 non-null   float64\n",
      " 35  Net Borrowings                                       1781 non-null   float64\n",
      " 36  Net Cash Flow                                        1781 non-null   float64\n",
      " 37  Net Cash Flow-Operating                              1781 non-null   float64\n",
      " 38  Net Cash Flows-Financing                             1781 non-null   float64\n",
      " 39  Net Cash Flows-Investing                             1781 non-null   float64\n",
      " 40  Net Income                                           1781 non-null   float64\n",
      " 41  Net Income Adjustments                               1781 non-null   float64\n",
      " 42  Net Income Applicable to Common Shareholders         1781 non-null   float64\n",
      " 43  Net Income-Cont. Operations                          1781 non-null   float64\n",
      " 44  Net Receivables                                      1781 non-null   float64\n",
      " 45  Non-Recurring Items                                  1781 non-null   float64\n",
      " 46  Operating Income                                     1781 non-null   float64\n",
      " 47  Operating Margin                                     1781 non-null   float64\n",
      " 48  Other Assets                                         1781 non-null   float64\n",
      " 49  Other Current Assets                                 1781 non-null   float64\n",
      " 50  Other Current Liabilities                            1781 non-null   float64\n",
      " 51  Other Equity                                         1781 non-null   float64\n",
      " 52  Other Financing Activities                           1781 non-null   float64\n",
      " 53  Other Investing Activities                           1781 non-null   float64\n",
      " 54  Other Liabilities                                    1781 non-null   float64\n",
      " 55  Other Operating Activities                           1781 non-null   float64\n",
      " 56  Other Operating Items                                1781 non-null   float64\n",
      " 57  Pre-Tax Margin                                       1781 non-null   float64\n",
      " 58  Pre-Tax ROE                                          1781 non-null   float64\n",
      " 59  Profit Margin                                        1781 non-null   float64\n",
      " 60  Quick Ratio                                          1482 non-null   float64\n",
      " 61  Research and Development                             1781 non-null   float64\n",
      " 62  Retained Earnings                                    1781 non-null   float64\n",
      " 63  Sale and Purchase of Stock                           1781 non-null   float64\n",
      " 64  Sales, General and Admin.                            1781 non-null   float64\n",
      " 65  Short-Term Debt / Current Portion of Long-Term Debt  1781 non-null   float64\n",
      " 66  Short-Term Investments                               1781 non-null   float64\n",
      " 67  Total Assets                                         1781 non-null   float64\n",
      " 68  Total Current Assets                                 1781 non-null   float64\n",
      " 69  Total Current Liabilities                            1781 non-null   float64\n",
      " 70  Total Equity                                         1781 non-null   float64\n",
      " 71  Total Liabilities                                    1781 non-null   float64\n",
      " 72  Total Liabilities & Equity                           1781 non-null   float64\n",
      " 73  Total Revenue                                        1781 non-null   float64\n",
      " 74  Treasury Stock                                       1781 non-null   float64\n",
      " 75  For Year                                             1608 non-null   float64\n",
      " 76  Earnings Per Share                                   1562 non-null   float64\n",
      " 77  Estimated Shares Outstanding                         1562 non-null   float64\n",
      "dtypes: float64(76), object(2)\n",
      "memory usage: 1.1+ MB\n"
     ]
    }
   ],
   "source": [
    "data.info(0)"
   ]
  },
  {
   "cell_type": "code",
   "execution_count": 8,
   "metadata": {},
   "outputs": [
    {
     "data": {
      "text/plain": [
       "symbol    0\n",
       "open      0\n",
       "close     0\n",
       "low       0\n",
       "high      0\n",
       "volume    0\n",
       "dtype: int64"
      ]
     },
     "execution_count": 8,
     "metadata": {},
     "output_type": "execute_result"
    }
   ],
   "source": [
    "#WTF missing values\n",
    "\n",
    "data1.isnull().sum()"
   ]
  },
  {
   "cell_type": "code",
   "execution_count": 9,
   "metadata": {},
   "outputs": [
    {
     "data": {
      "text/plain": [
       "Ticker Symbol                     0\n",
       "Period Ending                     0\n",
       "Accounts Payable                  0\n",
       "Accounts Receivable               0\n",
       "Add'l income/expense items        0\n",
       "                               ... \n",
       "Total Revenue                     0\n",
       "Treasury Stock                    0\n",
       "For Year                        173\n",
       "Earnings Per Share              219\n",
       "Estimated Shares Outstanding    219\n",
       "Length: 78, dtype: int64"
      ]
     },
     "execution_count": 9,
     "metadata": {},
     "output_type": "execute_result"
    }
   ],
   "source": [
    "#WTF missing values\n",
    "\n",
    "data.isnull().sum()"
   ]
  },
  {
   "cell_type": "code",
   "execution_count": 10,
   "metadata": {},
   "outputs": [
    {
     "data": {
      "text/plain": [
       "Ticker Symbol                    0.000000\n",
       "Period Ending                    0.000000\n",
       "Accounts Payable                 0.000000\n",
       "Accounts Receivable              0.000000\n",
       "Add'l income/expense items       0.000000\n",
       "                                  ...    \n",
       "Total Revenue                    0.000000\n",
       "Treasury Stock                   0.000000\n",
       "For Year                         9.713644\n",
       "Earnings Per Share              12.296463\n",
       "Estimated Shares Outstanding    12.296463\n",
       "Length: 78, dtype: float64"
      ]
     },
     "execution_count": 10,
     "metadata": {},
     "output_type": "execute_result"
    }
   ],
   "source": [
    "#WTF missing values by percentage\n",
    "\n",
    "data.isnull().sum() / data.shape[0] *100"
   ]
  },
  {
   "cell_type": "code",
   "execution_count": 11,
   "metadata": {},
   "outputs": [
    {
     "data": {
      "text/plain": [
       "0"
      ]
     },
     "execution_count": 11,
     "metadata": {},
     "output_type": "execute_result"
    }
   ],
   "source": [
    "### finding duplicates\n",
    "\n",
    "data.duplicated().sum()"
   ]
  },
  {
   "cell_type": "code",
   "execution_count": 12,
   "metadata": {},
   "outputs": [
    {
     "data": {
      "text/plain": [
       "0       False\n",
       "1       False\n",
       "2       False\n",
       "3       False\n",
       "4       False\n",
       "        ...  \n",
       "1776    False\n",
       "1777    False\n",
       "1778    False\n",
       "1779    False\n",
       "1780    False\n",
       "Length: 1781, dtype: bool"
      ]
     },
     "execution_count": 12,
     "metadata": {},
     "output_type": "execute_result"
    }
   ],
   "source": [
    "data.duplicated()"
   ]
  },
  {
   "cell_type": "code",
   "execution_count": 13,
   "metadata": {},
   "outputs": [
    {
     "name": "stdout",
     "output_type": "stream",
     "text": [
      "Ticker Symbol\n",
      "AAL     4\n",
      "NOV     4\n",
      "OMC     4\n",
      "OKE     4\n",
      "O       4\n",
      "       ..\n",
      "PYPL    3\n",
      "WRK     3\n",
      "AVGO    2\n",
      "MYL     2\n",
      "CSRA    2\n",
      "Name: count, Length: 448, dtype: int64\n",
      "**********\n",
      "Period Ending\n",
      "2014-12-31    317\n",
      "2015-12-31    317\n",
      "2013-12-31    316\n",
      "2012-12-31    225\n",
      "2016-12-31     97\n",
      "             ... \n",
      "2007-02-28      1\n",
      "2006-02-28      1\n",
      "2004-06-30      1\n",
      "2003-06-30      1\n",
      "2013-10-03      1\n",
      "Name: count, Length: 162, dtype: int64\n",
      "**********\n"
     ]
    }
   ],
   "source": [
    "## garbage values for qualitative /  non-quantitative data\n",
    "for i in data.select_dtypes(include = \"object\").columns:\n",
    "    print(data[i].value_counts())\n",
    "    print(\"*\"*10)"
   ]
  },
  {
   "cell_type": "code",
   "execution_count": 14,
   "metadata": {},
   "outputs": [
    {
     "data": {
      "text/plain": [
       "Ticker Symbol\n",
       "AAL     4\n",
       "NOV     4\n",
       "OMC     4\n",
       "OKE     4\n",
       "O       4\n",
       "       ..\n",
       "PYPL    3\n",
       "WRK     3\n",
       "AVGO    2\n",
       "MYL     2\n",
       "CSRA    2\n",
       "Name: count, Length: 448, dtype: int64"
      ]
     },
     "execution_count": 14,
     "metadata": {},
     "output_type": "execute_result"
    }
   ],
   "source": [
    "data[\"Ticker Symbol\"].value_counts()"
   ]
  },
  {
   "cell_type": "markdown",
   "metadata": {},
   "source": [
    "### step 4 EDA"
   ]
  },
  {
   "cell_type": "code",
   "execution_count": 15,
   "metadata": {},
   "outputs": [
    {
     "data": {
      "text/html": [
       "<div>\n",
       "<style scoped>\n",
       "    .dataframe tbody tr th:only-of-type {\n",
       "        vertical-align: middle;\n",
       "    }\n",
       "\n",
       "    .dataframe tbody tr th {\n",
       "        vertical-align: top;\n",
       "    }\n",
       "\n",
       "    .dataframe thead th {\n",
       "        text-align: right;\n",
       "    }\n",
       "</style>\n",
       "<table border=\"1\" class=\"dataframe\">\n",
       "  <thead>\n",
       "    <tr style=\"text-align: right;\">\n",
       "      <th></th>\n",
       "      <th>Accounts Payable</th>\n",
       "      <th>Accounts Receivable</th>\n",
       "      <th>Add'l income/expense items</th>\n",
       "      <th>After Tax ROE</th>\n",
       "      <th>Capital Expenditures</th>\n",
       "      <th>Capital Surplus</th>\n",
       "      <th>Cash Ratio</th>\n",
       "      <th>Cash and Cash Equivalents</th>\n",
       "      <th>Changes in Inventories</th>\n",
       "      <th>Common Stocks</th>\n",
       "      <th>...</th>\n",
       "      <th>Total Current Assets</th>\n",
       "      <th>Total Current Liabilities</th>\n",
       "      <th>Total Equity</th>\n",
       "      <th>Total Liabilities</th>\n",
       "      <th>Total Liabilities &amp; Equity</th>\n",
       "      <th>Total Revenue</th>\n",
       "      <th>Treasury Stock</th>\n",
       "      <th>For Year</th>\n",
       "      <th>Earnings Per Share</th>\n",
       "      <th>Estimated Shares Outstanding</th>\n",
       "    </tr>\n",
       "  </thead>\n",
       "  <tbody>\n",
       "    <tr>\n",
       "      <th>count</th>\n",
       "      <td>1.781000e+03</td>\n",
       "      <td>1.781000e+03</td>\n",
       "      <td>1.781000e+03</td>\n",
       "      <td>1781.000000</td>\n",
       "      <td>1.781000e+03</td>\n",
       "      <td>1.781000e+03</td>\n",
       "      <td>1482.000000</td>\n",
       "      <td>1.781000e+03</td>\n",
       "      <td>1.781000e+03</td>\n",
       "      <td>1.781000e+03</td>\n",
       "      <td>...</td>\n",
       "      <td>1.781000e+03</td>\n",
       "      <td>1.781000e+03</td>\n",
       "      <td>1.781000e+03</td>\n",
       "      <td>1.781000e+03</td>\n",
       "      <td>1.781000e+03</td>\n",
       "      <td>1.781000e+03</td>\n",
       "      <td>1.781000e+03</td>\n",
       "      <td>1608.000000</td>\n",
       "      <td>1562.000000</td>\n",
       "      <td>1.562000e+03</td>\n",
       "    </tr>\n",
       "    <tr>\n",
       "      <th>mean</th>\n",
       "      <td>4.673418e+09</td>\n",
       "      <td>-6.353484e+07</td>\n",
       "      <td>6.908940e+07</td>\n",
       "      <td>43.601348</td>\n",
       "      <td>-1.251925e+09</td>\n",
       "      <td>5.351784e+09</td>\n",
       "      <td>74.457490</td>\n",
       "      <td>8.521399e+09</td>\n",
       "      <td>-6.787749e+07</td>\n",
       "      <td>1.608543e+09</td>\n",
       "      <td>...</td>\n",
       "      <td>6.726349e+09</td>\n",
       "      <td>4.699919e+09</td>\n",
       "      <td>1.188846e+10</td>\n",
       "      <td>4.380420e+10</td>\n",
       "      <td>5.569266e+10</td>\n",
       "      <td>2.029154e+10</td>\n",
       "      <td>-3.951522e+09</td>\n",
       "      <td>2013.305348</td>\n",
       "      <td>3.353707</td>\n",
       "      <td>6.024244e+08</td>\n",
       "    </tr>\n",
       "    <tr>\n",
       "      <th>std</th>\n",
       "      <td>1.406047e+10</td>\n",
       "      <td>7.562794e+08</td>\n",
       "      <td>6.848143e+08</td>\n",
       "      <td>233.924028</td>\n",
       "      <td>2.979963e+09</td>\n",
       "      <td>1.133977e+10</td>\n",
       "      <td>102.298374</td>\n",
       "      <td>5.432105e+10</td>\n",
       "      <td>3.903369e+08</td>\n",
       "      <td>9.177636e+09</td>\n",
       "      <td>...</td>\n",
       "      <td>1.344800e+10</td>\n",
       "      <td>9.538832e+09</td>\n",
       "      <td>2.584429e+10</td>\n",
       "      <td>1.817039e+11</td>\n",
       "      <td>2.033612e+11</td>\n",
       "      <td>4.095355e+10</td>\n",
       "      <td>1.407047e+10</td>\n",
       "      <td>19.953135</td>\n",
       "      <td>4.695896</td>\n",
       "      <td>1.142585e+09</td>\n",
       "    </tr>\n",
       "    <tr>\n",
       "      <th>min</th>\n",
       "      <td>0.000000e+00</td>\n",
       "      <td>-6.452000e+09</td>\n",
       "      <td>-6.768000e+09</td>\n",
       "      <td>0.000000</td>\n",
       "      <td>-3.798500e+10</td>\n",
       "      <td>-7.215000e+08</td>\n",
       "      <td>0.000000</td>\n",
       "      <td>2.100000e+04</td>\n",
       "      <td>-5.562000e+09</td>\n",
       "      <td>0.000000e+00</td>\n",
       "      <td>...</td>\n",
       "      <td>0.000000e+00</td>\n",
       "      <td>0.000000e+00</td>\n",
       "      <td>-1.324400e+10</td>\n",
       "      <td>2.577000e+06</td>\n",
       "      <td>2.705000e+06</td>\n",
       "      <td>1.514000e+06</td>\n",
       "      <td>-2.297340e+11</td>\n",
       "      <td>1215.000000</td>\n",
       "      <td>-61.200000</td>\n",
       "      <td>-1.513945e+09</td>\n",
       "    </tr>\n",
       "    <tr>\n",
       "      <th>25%</th>\n",
       "      <td>5.160000e+08</td>\n",
       "      <td>-1.040000e+08</td>\n",
       "      <td>-2.638000e+06</td>\n",
       "      <td>10.000000</td>\n",
       "      <td>-1.151200e+09</td>\n",
       "      <td>4.791000e+08</td>\n",
       "      <td>17.000000</td>\n",
       "      <td>3.088000e+08</td>\n",
       "      <td>-5.400000e+07</td>\n",
       "      <td>1.628000e+06</td>\n",
       "      <td>...</td>\n",
       "      <td>1.044178e+09</td>\n",
       "      <td>5.640760e+08</td>\n",
       "      <td>2.201492e+09</td>\n",
       "      <td>3.843300e+09</td>\n",
       "      <td>6.552689e+09</td>\n",
       "      <td>3.714000e+09</td>\n",
       "      <td>-3.040895e+09</td>\n",
       "      <td>2013.000000</td>\n",
       "      <td>1.590000</td>\n",
       "      <td>1.493318e+08</td>\n",
       "    </tr>\n",
       "    <tr>\n",
       "      <th>50%</th>\n",
       "      <td>1.334000e+09</td>\n",
       "      <td>-1.830000e+07</td>\n",
       "      <td>2.000000e+06</td>\n",
       "      <td>16.000000</td>\n",
       "      <td>-3.580000e+08</td>\n",
       "      <td>1.997080e+09</td>\n",
       "      <td>41.000000</td>\n",
       "      <td>8.625900e+08</td>\n",
       "      <td>0.000000e+00</td>\n",
       "      <td>7.725000e+06</td>\n",
       "      <td>...</td>\n",
       "      <td>2.747200e+09</td>\n",
       "      <td>1.701500e+09</td>\n",
       "      <td>4.983000e+09</td>\n",
       "      <td>9.141000e+09</td>\n",
       "      <td>1.517000e+10</td>\n",
       "      <td>8.023200e+09</td>\n",
       "      <td>-3.068350e+08</td>\n",
       "      <td>2014.000000</td>\n",
       "      <td>2.810000</td>\n",
       "      <td>2.929409e+08</td>\n",
       "    </tr>\n",
       "    <tr>\n",
       "      <th>75%</th>\n",
       "      <td>3.246000e+09</td>\n",
       "      <td>7.816000e+06</td>\n",
       "      <td>3.359200e+07</td>\n",
       "      <td>26.000000</td>\n",
       "      <td>-1.291000e+08</td>\n",
       "      <td>5.735000e+09</td>\n",
       "      <td>90.000000</td>\n",
       "      <td>2.310000e+09</td>\n",
       "      <td>0.000000e+00</td>\n",
       "      <td>2.970000e+08</td>\n",
       "      <td>...</td>\n",
       "      <td>6.162000e+09</td>\n",
       "      <td>4.381000e+09</td>\n",
       "      <td>1.080900e+10</td>\n",
       "      <td>2.389700e+10</td>\n",
       "      <td>3.599710e+10</td>\n",
       "      <td>1.748600e+10</td>\n",
       "      <td>0.000000e+00</td>\n",
       "      <td>2015.000000</td>\n",
       "      <td>4.590000</td>\n",
       "      <td>5.492163e+08</td>\n",
       "    </tr>\n",
       "    <tr>\n",
       "      <th>max</th>\n",
       "      <td>2.069390e+11</td>\n",
       "      <td>2.266400e+10</td>\n",
       "      <td>1.416200e+10</td>\n",
       "      <td>5789.000000</td>\n",
       "      <td>5.000000e+06</td>\n",
       "      <td>1.082880e+11</td>\n",
       "      <td>1041.000000</td>\n",
       "      <td>7.281110e+11</td>\n",
       "      <td>3.755000e+09</td>\n",
       "      <td>1.581420e+11</td>\n",
       "      <td>...</td>\n",
       "      <td>1.396600e+11</td>\n",
       "      <td>9.028100e+10</td>\n",
       "      <td>2.562050e+11</td>\n",
       "      <td>2.340547e+12</td>\n",
       "      <td>2.572274e+12</td>\n",
       "      <td>4.856510e+11</td>\n",
       "      <td>0.000000e+00</td>\n",
       "      <td>2016.000000</td>\n",
       "      <td>50.090000</td>\n",
       "      <td>1.610769e+10</td>\n",
       "    </tr>\n",
       "  </tbody>\n",
       "</table>\n",
       "<p>8 rows × 76 columns</p>\n",
       "</div>"
      ],
      "text/plain": [
       "       Accounts Payable  Accounts Receivable  Add'l income/expense items  \\\n",
       "count      1.781000e+03         1.781000e+03                1.781000e+03   \n",
       "mean       4.673418e+09        -6.353484e+07                6.908940e+07   \n",
       "std        1.406047e+10         7.562794e+08                6.848143e+08   \n",
       "min        0.000000e+00        -6.452000e+09               -6.768000e+09   \n",
       "25%        5.160000e+08        -1.040000e+08               -2.638000e+06   \n",
       "50%        1.334000e+09        -1.830000e+07                2.000000e+06   \n",
       "75%        3.246000e+09         7.816000e+06                3.359200e+07   \n",
       "max        2.069390e+11         2.266400e+10                1.416200e+10   \n",
       "\n",
       "       After Tax ROE  Capital Expenditures  Capital Surplus   Cash Ratio  \\\n",
       "count    1781.000000          1.781000e+03     1.781000e+03  1482.000000   \n",
       "mean       43.601348         -1.251925e+09     5.351784e+09    74.457490   \n",
       "std       233.924028          2.979963e+09     1.133977e+10   102.298374   \n",
       "min         0.000000         -3.798500e+10    -7.215000e+08     0.000000   \n",
       "25%        10.000000         -1.151200e+09     4.791000e+08    17.000000   \n",
       "50%        16.000000         -3.580000e+08     1.997080e+09    41.000000   \n",
       "75%        26.000000         -1.291000e+08     5.735000e+09    90.000000   \n",
       "max      5789.000000          5.000000e+06     1.082880e+11  1041.000000   \n",
       "\n",
       "       Cash and Cash Equivalents  Changes in Inventories  Common Stocks  ...  \\\n",
       "count               1.781000e+03            1.781000e+03   1.781000e+03  ...   \n",
       "mean                8.521399e+09           -6.787749e+07   1.608543e+09  ...   \n",
       "std                 5.432105e+10            3.903369e+08   9.177636e+09  ...   \n",
       "min                 2.100000e+04           -5.562000e+09   0.000000e+00  ...   \n",
       "25%                 3.088000e+08           -5.400000e+07   1.628000e+06  ...   \n",
       "50%                 8.625900e+08            0.000000e+00   7.725000e+06  ...   \n",
       "75%                 2.310000e+09            0.000000e+00   2.970000e+08  ...   \n",
       "max                 7.281110e+11            3.755000e+09   1.581420e+11  ...   \n",
       "\n",
       "       Total Current Assets  Total Current Liabilities  Total Equity  \\\n",
       "count          1.781000e+03               1.781000e+03  1.781000e+03   \n",
       "mean           6.726349e+09               4.699919e+09  1.188846e+10   \n",
       "std            1.344800e+10               9.538832e+09  2.584429e+10   \n",
       "min            0.000000e+00               0.000000e+00 -1.324400e+10   \n",
       "25%            1.044178e+09               5.640760e+08  2.201492e+09   \n",
       "50%            2.747200e+09               1.701500e+09  4.983000e+09   \n",
       "75%            6.162000e+09               4.381000e+09  1.080900e+10   \n",
       "max            1.396600e+11               9.028100e+10  2.562050e+11   \n",
       "\n",
       "       Total Liabilities  Total Liabilities & Equity  Total Revenue  \\\n",
       "count       1.781000e+03                1.781000e+03   1.781000e+03   \n",
       "mean        4.380420e+10                5.569266e+10   2.029154e+10   \n",
       "std         1.817039e+11                2.033612e+11   4.095355e+10   \n",
       "min         2.577000e+06                2.705000e+06   1.514000e+06   \n",
       "25%         3.843300e+09                6.552689e+09   3.714000e+09   \n",
       "50%         9.141000e+09                1.517000e+10   8.023200e+09   \n",
       "75%         2.389700e+10                3.599710e+10   1.748600e+10   \n",
       "max         2.340547e+12                2.572274e+12   4.856510e+11   \n",
       "\n",
       "       Treasury Stock     For Year  Earnings Per Share  \\\n",
       "count    1.781000e+03  1608.000000         1562.000000   \n",
       "mean    -3.951522e+09  2013.305348            3.353707   \n",
       "std      1.407047e+10    19.953135            4.695896   \n",
       "min     -2.297340e+11  1215.000000          -61.200000   \n",
       "25%     -3.040895e+09  2013.000000            1.590000   \n",
       "50%     -3.068350e+08  2014.000000            2.810000   \n",
       "75%      0.000000e+00  2015.000000            4.590000   \n",
       "max      0.000000e+00  2016.000000           50.090000   \n",
       "\n",
       "       Estimated Shares Outstanding  \n",
       "count                  1.562000e+03  \n",
       "mean                   6.024244e+08  \n",
       "std                    1.142585e+09  \n",
       "min                   -1.513945e+09  \n",
       "25%                    1.493318e+08  \n",
       "50%                    2.929409e+08  \n",
       "75%                    5.492163e+08  \n",
       "max                    1.610769e+10  \n",
       "\n",
       "[8 rows x 76 columns]"
      ]
     },
     "execution_count": 15,
     "metadata": {},
     "output_type": "execute_result"
    }
   ],
   "source": [
    "data.describe()"
   ]
  },
  {
   "cell_type": "code",
   "execution_count": 16,
   "metadata": {},
   "outputs": [
    {
     "data": {
      "text/html": [
       "<div>\n",
       "<style scoped>\n",
       "    .dataframe tbody tr th:only-of-type {\n",
       "        vertical-align: middle;\n",
       "    }\n",
       "\n",
       "    .dataframe tbody tr th {\n",
       "        vertical-align: top;\n",
       "    }\n",
       "\n",
       "    .dataframe thead th {\n",
       "        text-align: right;\n",
       "    }\n",
       "</style>\n",
       "<table border=\"1\" class=\"dataframe\">\n",
       "  <thead>\n",
       "    <tr style=\"text-align: right;\">\n",
       "      <th></th>\n",
       "      <th>Ticker Symbol</th>\n",
       "      <th>Period Ending</th>\n",
       "    </tr>\n",
       "  </thead>\n",
       "  <tbody>\n",
       "    <tr>\n",
       "      <th>count</th>\n",
       "      <td>1781</td>\n",
       "      <td>1781</td>\n",
       "    </tr>\n",
       "    <tr>\n",
       "      <th>unique</th>\n",
       "      <td>448</td>\n",
       "      <td>162</td>\n",
       "    </tr>\n",
       "    <tr>\n",
       "      <th>top</th>\n",
       "      <td>AAL</td>\n",
       "      <td>2014-12-31</td>\n",
       "    </tr>\n",
       "    <tr>\n",
       "      <th>freq</th>\n",
       "      <td>4</td>\n",
       "      <td>317</td>\n",
       "    </tr>\n",
       "  </tbody>\n",
       "</table>\n",
       "</div>"
      ],
      "text/plain": [
       "       Ticker Symbol Period Ending\n",
       "count           1781          1781\n",
       "unique           448           162\n",
       "top              AAL    2014-12-31\n",
       "freq               4           317"
      ]
     },
     "execution_count": 16,
     "metadata": {},
     "output_type": "execute_result"
    }
   ],
   "source": [
    "data.describe(include = 'object')"
   ]
  },
  {
   "cell_type": "code",
   "execution_count": 18,
   "metadata": {},
   "outputs": [
    {
     "name": "stderr",
     "output_type": "stream",
     "text": [
      "c:\\Users\\lionel\\anaconda3\\lib\\site-packages\\seaborn\\_oldcore.py:1119: FutureWarning: use_inf_as_na option is deprecated and will be removed in a future version. Convert inf values to NaN before operating instead.\n",
      "  with pd.option_context('mode.use_inf_as_na', True):\n"
     ]
    },
    {
     "data": {
      "image/png": "[encoded data removed]",
      "text/plain": [
       "<Figure size 640x480 with 1 Axes>"
      ]
     },
     "metadata": {},
     "output_type": "display_data"
    },
    {
     "name": "stderr",
     "output_type": "stream",
     "text": [
      "c:\\Users\\lionel\\anaconda3\\lib\\site-packages\\seaborn\\_oldcore.py:1119: FutureWarning: use_inf_as_na option is deprecated and will be removed in a future version. Convert inf values to NaN before operating instead.\n",
      "  with pd.option_context('mode.use_inf_as_na', True):\n"
     ]
    },
    {
     "data": {
      "image/png": "[encoded data removed]",
      "text/plain": [
       "<Figure size 640x480 with 1 Axes>"
      ]
     },
     "metadata": {},
     "output_type": "display_data"
    },
    {
     "name": "stderr",
     "output_type": "stream",
     "text": [
      "c:\\Users\\lionel\\anaconda3\\lib\\site-packages\\seaborn\\_oldcore.py:1119: FutureWarning: use_inf_as_na option is deprecated and will be removed in a future version. Convert inf values to NaN before operating instead.\n",
      "  with pd.option_context('mode.use_inf_as_na', True):\n"
     ]
    },
    {
     "data": {
      "image/png": "[encoded data removed]",
      "text/plain": [
       "<Figure size 640x480 with 1 Axes>"
      ]
     },
     "metadata": {},
     "output_type": "display_data"
    },
    {
     "name": "stderr",
     "output_type": "stream",
     "text": [
      "c:\\Users\\lionel\\anaconda3\\lib\\site-packages\\seaborn\\_oldcore.py:1119: FutureWarning: use_inf_as_na option is deprecated and will be removed in a future version. Convert inf values to NaN before operating instead.\n",
      "  with pd.option_context('mode.use_inf_as_na', True):\n"
     ]
    },
    {
     "data": {
      "image/png": "[encoded data removed]",
      "text/plain": [
       "<Figure size 640x480 with 1 Axes>"
      ]
     },
     "metadata": {},
     "output_type": "display_data"
    },
    {
     "name": "stderr",
     "output_type": "stream",
     "text": [
      "c:\\Users\\lionel\\anaconda3\\lib\\site-packages\\seaborn\\_oldcore.py:1119: FutureWarning: use_inf_as_na option is deprecated and will be removed in a future version. Convert inf values to NaN before operating instead.\n",
      "  with pd.option_context('mode.use_inf_as_na', True):\n"
     ]
    },
    {
     "data": {
      "image/png": "[encoded data removed]",
      "text/plain": [
       "<Figure size 640x480 with 1 Axes>"
      ]
     },
     "metadata": {},
     "output_type": "display_data"
    }
   ],
   "source": [
    "# histogram\n",
    "\n",
    "for i in data1.select_dtypes(include = \"number\").columns:\n",
    "    sns.histplot(data=data1,x=i)\n",
    "    plt.show()\n",
    "\n"
   ]
  },
  {
   "cell_type": "code",
   "execution_count": 19,
   "metadata": {},
   "outputs": [
    {
     "data": {
      "image/png": "[encoded data removed]",
      "text/plain": [
       "<Figure size 640x480 with 1 Axes>"
      ]
     },
     "metadata": {},
     "output_type": "display_data"
    },
    {
     "data": {
      "image/png": "[encoded data removed]",
      "text/plain": [
       "<Figure size 640x480 with 1 Axes>"
      ]
     },
     "metadata": {},
     "output_type": "display_data"
    },
    {
     "data": {
      "image/png": "[encoded data removed]",
      "text/plain": [
       "<Figure size 640x480 with 1 Axes>"
      ]
     },
     "metadata": {},
     "output_type": "display_data"
    },
    {
     "data": {
      "image/png": "[encoded data removed]",
      "text/plain": [
       "<Figure size 640x480 with 1 Axes>"
      ]
     },
     "metadata": {},
     "output_type": "display_data"
    },
    {
     "data": {
      "image/png": "[encoded data removed]",
      "text/plain": [
       "<Figure size 640x480 with 1 Axes>"
      ]
     },
     "metadata": {},
     "output_type": "display_data"
    }
   ],
   "source": [
    "# Boxplot\n",
    "\n",
    "for i in data1.select_dtypes(include = \"number\").columns:\n",
    "    sns.boxplot(data=data1,x=i)\n",
    "    plt.show()"
   ]
  },
  {
   "cell_type": "code",
   "execution_count": 22,
   "metadata": {},
   "outputs": [
    {
     "data": {
      "text/plain": [
       "Index(['Accounts Payable', 'Accounts Receivable', 'Add'l income/expense items',\n",
       "       'After Tax ROE', 'Capital Expenditures', 'Capital Surplus',\n",
       "       'Cash Ratio', 'Cash and Cash Equivalents', 'Changes in Inventories',\n",
       "       'Common Stocks', 'Cost of Revenue', 'Current Ratio',\n",
       "       'Deferred Asset Charges', 'Deferred Liability Charges', 'Depreciation',\n",
       "       'Earnings Before Interest and Tax', 'Earnings Before Tax',\n",
       "       'Effect of Exchange Rate',\n",
       "       'Equity Earnings/Loss Unconsolidated Subsidiary', 'Fixed Assets',\n",
       "       'Goodwill', 'Gross Margin', 'Gross Profit', 'Income Tax',\n",
       "       'Intangible Assets', 'Interest Expense', 'Inventory', 'Investments',\n",
       "       'Liabilities', 'Long-Term Debt', 'Long-Term Investments',\n",
       "       'Minority Interest', 'Misc. Stocks', 'Net Borrowings', 'Net Cash Flow',\n",
       "       'Net Cash Flow-Operating', 'Net Cash Flows-Financing',\n",
       "       'Net Cash Flows-Investing', 'Net Income', 'Net Income Adjustments',\n",
       "       'Net Income Applicable to Common Shareholders',\n",
       "       'Net Income-Cont. Operations', 'Net Receivables', 'Non-Recurring Items',\n",
       "       'Operating Income', 'Operating Margin', 'Other Assets',\n",
       "       'Other Current Assets', 'Other Current Liabilities', 'Other Equity',\n",
       "       'Other Financing Activities', 'Other Investing Activities',\n",
       "       'Other Liabilities', 'Other Operating Activities',\n",
       "       'Other Operating Items', 'Pre-Tax Margin', 'Pre-Tax ROE',\n",
       "       'Profit Margin', 'Quick Ratio', 'Research and Development',\n",
       "       'Retained Earnings', 'Sale and Purchase of Stock',\n",
       "       'Sales, General and Admin.',\n",
       "       'Short-Term Debt / Current Portion of Long-Term Debt',\n",
       "       'Short-Term Investments', 'Total Assets', 'Total Current Assets',\n",
       "       'Total Current Liabilities', 'Total Equity', 'Total Liabilities',\n",
       "       'Total Liabilities & Equity', 'Total Revenue', 'Treasury Stock',\n",
       "       'For Year', 'Earnings Per Share', 'Estimated Shares Outstanding'],\n",
       "      dtype='object')"
      ]
     },
     "execution_count": 22,
     "metadata": {},
     "output_type": "execute_result"
    }
   ],
   "source": [
    "#scatter plot\n",
    "\n",
    "data.select_dtypes(include = \"number\").columns"
   ]
  },
  {
   "cell_type": "code",
   "execution_count": 32,
   "metadata": {},
   "outputs": [
    {
     "data": {
      "image/png": "[encoded data removed]",
      "text/plain": [
       "<Figure size 640x480 with 1 Axes>"
      ]
     },
     "metadata": {},
     "output_type": "display_data"
    }
   ],
   "source": [
    "#scatter plot 1 variable\n",
    "\n",
    "\n",
    "sns.scatterplot(data = data, x = \"Cash and Cash Equivalents\",y=\"Gross Margin\")\n",
    "plt.show()"
   ]
  },
  {
   "cell_type": "code",
   "execution_count": 34,
   "metadata": {},
   "outputs": [
    {
     "data": {
      "text/html": [
       "<div>\n",
       "<style scoped>\n",
       "    .dataframe tbody tr th:only-of-type {\n",
       "        vertical-align: middle;\n",
       "    }\n",
       "\n",
       "    .dataframe tbody tr th {\n",
       "        vertical-align: top;\n",
       "    }\n",
       "\n",
       "    .dataframe thead th {\n",
       "        text-align: right;\n",
       "    }\n",
       "</style>\n",
       "<table border=\"1\" class=\"dataframe\">\n",
       "  <thead>\n",
       "    <tr style=\"text-align: right;\">\n",
       "      <th></th>\n",
       "      <th>open</th>\n",
       "      <th>close</th>\n",
       "      <th>low</th>\n",
       "      <th>high</th>\n",
       "      <th>volume</th>\n",
       "    </tr>\n",
       "  </thead>\n",
       "  <tbody>\n",
       "    <tr>\n",
       "      <th>open</th>\n",
       "      <td>1.000000</td>\n",
       "      <td>0.999845</td>\n",
       "      <td>0.999914</td>\n",
       "      <td>0.999928</td>\n",
       "      <td>-0.132526</td>\n",
       "    </tr>\n",
       "    <tr>\n",
       "      <th>close</th>\n",
       "      <td>0.999845</td>\n",
       "      <td>1.000000</td>\n",
       "      <td>0.999926</td>\n",
       "      <td>0.999925</td>\n",
       "      <td>-0.132675</td>\n",
       "    </tr>\n",
       "    <tr>\n",
       "      <th>low</th>\n",
       "      <td>0.999914</td>\n",
       "      <td>0.999926</td>\n",
       "      <td>1.000000</td>\n",
       "      <td>0.999889</td>\n",
       "      <td>-0.133087</td>\n",
       "    </tr>\n",
       "    <tr>\n",
       "      <th>high</th>\n",
       "      <td>0.999928</td>\n",
       "      <td>0.999925</td>\n",
       "      <td>0.999889</td>\n",
       "      <td>1.000000</td>\n",
       "      <td>-0.132168</td>\n",
       "    </tr>\n",
       "    <tr>\n",
       "      <th>volume</th>\n",
       "      <td>-0.132526</td>\n",
       "      <td>-0.132675</td>\n",
       "      <td>-0.133087</td>\n",
       "      <td>-0.132168</td>\n",
       "      <td>1.000000</td>\n",
       "    </tr>\n",
       "  </tbody>\n",
       "</table>\n",
       "</div>"
      ],
      "text/plain": [
       "            open     close       low      high    volume\n",
       "open    1.000000  0.999845  0.999914  0.999928 -0.132526\n",
       "close   0.999845  1.000000  0.999926  0.999925 -0.132675\n",
       "low     0.999914  0.999926  1.000000  0.999889 -0.133087\n",
       "high    0.999928  0.999925  0.999889  1.000000 -0.132168\n",
       "volume -0.132526 -0.132675 -0.133087 -0.132168  1.000000"
      ]
     },
     "execution_count": 34,
     "metadata": {},
     "output_type": "execute_result"
    }
   ],
   "source": [
    "#correlation heatmap\n",
    "\n",
    "data1.select_dtypes(include = \"number\").corr()"
   ]
  },
  {
   "cell_type": "code",
   "execution_count": 35,
   "metadata": {},
   "outputs": [
    {
     "data": {
      "text/plain": [
       "<Axes: >"
      ]
     },
     "execution_count": 35,
     "metadata": {},
     "output_type": "execute_result"
    },
    {
     "data": {
      "image/png": "[encoded data removed]",
      "text/plain": [
       "<Figure size 640x480 with 2 Axes>"
      ]
     },
     "metadata": {},
     "output_type": "display_data"
    }
   ],
   "source": [
    "s = data1.select_dtypes(include = \"number\").corr()\n",
    "sns.heatmap(s)"
   ]
  },
  {
   "cell_type": "markdown",
   "metadata": {},
   "source": [
    "## Handling missing values\n",
    "\n",
    "we have the option of filling with mean, median, mode of KNNiputer"
   ]
  },
  {
   "cell_type": "code",
   "execution_count": 36,
   "metadata": {},
   "outputs": [
    {
     "data": {
      "text/plain": [
       "Ticker Symbol                     0\n",
       "Period Ending                     0\n",
       "Accounts Payable                  0\n",
       "Accounts Receivable               0\n",
       "Add'l income/expense items        0\n",
       "                               ... \n",
       "Total Revenue                     0\n",
       "Treasury Stock                    0\n",
       "For Year                        173\n",
       "Earnings Per Share              219\n",
       "Estimated Shares Outstanding    219\n",
       "Length: 78, dtype: int64"
      ]
     },
     "execution_count": 36,
     "metadata": {},
     "output_type": "execute_result"
    }
   ],
   "source": [
    "#WTF missing values\n",
    "\n",
    "data.isnull().sum()"
   ]
  },
  {
   "cell_type": "code",
   "execution_count": 38,
   "metadata": {},
   "outputs": [
    {
     "name": "stderr",
     "output_type": "stream",
     "text": [
      "C:\\Users\\lionel\\AppData\\Local\\Temp\\ipykernel_17916\\937357768.py:2: FutureWarning: A value is trying to be set on a copy of a DataFrame or Series through chained assignment using an inplace method.\n",
      "The behavior will change in pandas 3.0. This inplace method will never work because the intermediate object on which we are setting values always behaves as a copy.\n",
      "\n",
      "For example, when doing 'df[col].method(value, inplace=True)', try using 'df.method({col: value}, inplace=True)' or df[col] = df[col].method(value) instead, to perform the operation inplace on the original object.\n",
      "\n",
      "\n",
      "  data[i].fillna(data[i].median(), inplace= True)\n"
     ]
    },
    {
     "data": {
      "text/plain": [
       "Ticker Symbol                   0\n",
       "Period Ending                   0\n",
       "Accounts Payable                0\n",
       "Accounts Receivable             0\n",
       "Add'l income/expense items      0\n",
       "                               ..\n",
       "Total Revenue                   0\n",
       "Treasury Stock                  0\n",
       "For Year                        0\n",
       "Earnings Per Share              0\n",
       "Estimated Shares Outstanding    0\n",
       "Length: 78, dtype: int64"
      ]
     },
     "execution_count": 38,
     "metadata": {},
     "output_type": "execute_result"
    }
   ],
   "source": [
    "for i in [\"For Year\",\"Earnings Per Share\",\"Estimated Shares Outstanding\" ] :\n",
    "    data[i].fillna(data[i].median(), inplace= True)\n",
    "    \n",
    "data.isnull().sum()"
   ]
  },
  {
   "cell_type": "code",
   "execution_count": 39,
   "metadata": {},
   "outputs": [],
   "source": [
    "## replace median with mean"
   ]
  },
  {
   "cell_type": "code",
   "execution_count": 42,
   "metadata": {},
   "outputs": [
    {
     "name": "stderr",
     "output_type": "stream",
     "text": [
      "C:\\Users\\lionel\\AppData\\Local\\Temp\\ipykernel_17916\\3682812403.py:4: UserWarning: Could not infer format, so each element will be parsed individually, falling back to `dateutil`. To ensure parsing is consistent and as-expected, please specify a format.\n",
      "  data = pd.read_csv(\"fundamentals.csv\",index_col =0,parse_dates=True)\n"
     ]
    }
   ],
   "source": [
    "from sklearn.impute import KNNImputer\n",
    "impute = KNNImputer()\n",
    "\n",
    "data = pd.read_csv(\"fundamentals.csv\",index_col =0,parse_dates=True)\n",
    "\n",
    "for i in [\"For Year\",\"Earnings Per Share\",\"Estimated Shares Outstanding\" ] :\n",
    "    data[i]=impute.fit_transform(data[[i]])\n",
    "    \n",
    "    \n",
    "    ## find out what is impute\n",
    "    "
   ]
  },
  {
   "cell_type": "code",
   "execution_count": 43,
   "metadata": {},
   "outputs": [
    {
     "data": {
      "text/plain": [
       "Ticker Symbol                   0\n",
       "Period Ending                   0\n",
       "Accounts Payable                0\n",
       "Accounts Receivable             0\n",
       "Add'l income/expense items      0\n",
       "                               ..\n",
       "Total Revenue                   0\n",
       "Treasury Stock                  0\n",
       "For Year                        0\n",
       "Earnings Per Share              0\n",
       "Estimated Shares Outstanding    0\n",
       "Length: 78, dtype: int64"
      ]
     },
     "execution_count": 43,
     "metadata": {},
     "output_type": "execute_result"
    }
   ],
   "source": [
    "data.isnull().sum()"
   ]
  },
  {
   "cell_type": "markdown",
   "metadata": {},
   "source": [
    "## outliers treatment"
   ]
  },
  {
   "cell_type": "code",
   "execution_count": 2,
   "metadata": {},
   "outputs": [],
   "source": [
    "def wisker(col):\n",
    "    q1,q3 =np.percentile(col,[25,75])\n",
    "    iqr = q3-q1\n",
    "    lw = q1 = 1.5*iqr\n",
    "    uw = q3 + 1.5*iqr\n",
    "    return lw,uw\n"
   ]
  },
  {
   "cell_type": "code",
   "execution_count": 7,
   "metadata": {},
   "outputs": [
    {
     "data": {
      "text/plain": [
       "(6001500.0, 11224000.0)"
      ]
     },
     "execution_count": 7,
     "metadata": {},
     "output_type": "execute_result"
    }
   ],
   "source": [
    "#return lower wisker and upper wisker\n",
    "\n",
    "wisker(data1[\"volume\"])"
   ]
  },
  {
   "cell_type": "markdown",
   "metadata": {},
   "source": [
    "#### Is there a package that can immediately get the outliers"
   ]
  },
  {
   "cell_type": "code",
   "execution_count": null,
   "metadata": {},
   "outputs": [],
   "source": []
  },
  {
   "cell_type": "markdown",
   "metadata": {},
   "source": [
    "## Duplicates and garbage value treatment"
   ]
  },
  {
   "cell_type": "code",
   "execution_count": 9,
   "metadata": {},
   "outputs": [
    {
     "data": {
      "text/html": [
       "<div>\n",
       "<style scoped>\n",
       "    .dataframe tbody tr th:only-of-type {\n",
       "        vertical-align: middle;\n",
       "    }\n",
       "\n",
       "    .dataframe tbody tr th {\n",
       "        vertical-align: top;\n",
       "    }\n",
       "\n",
       "    .dataframe thead th {\n",
       "        text-align: right;\n",
       "    }\n",
       "</style>\n",
       "<table border=\"1\" class=\"dataframe\">\n",
       "  <thead>\n",
       "    <tr style=\"text-align: right;\">\n",
       "      <th></th>\n",
       "      <th>symbol</th>\n",
       "      <th>open</th>\n",
       "      <th>close</th>\n",
       "      <th>low</th>\n",
       "      <th>high</th>\n",
       "      <th>volume</th>\n",
       "    </tr>\n",
       "    <tr>\n",
       "      <th>date</th>\n",
       "      <th></th>\n",
       "      <th></th>\n",
       "      <th></th>\n",
       "      <th></th>\n",
       "      <th></th>\n",
       "      <th></th>\n",
       "    </tr>\n",
       "  </thead>\n",
       "  <tbody>\n",
       "    <tr>\n",
       "      <th>2016-01-05</th>\n",
       "      <td>WLTW</td>\n",
       "      <td>123.430000</td>\n",
       "      <td>125.839996</td>\n",
       "      <td>122.309998</td>\n",
       "      <td>126.250000</td>\n",
       "      <td>2163600.0</td>\n",
       "    </tr>\n",
       "    <tr>\n",
       "      <th>2016-01-06</th>\n",
       "      <td>WLTW</td>\n",
       "      <td>125.239998</td>\n",
       "      <td>119.980003</td>\n",
       "      <td>119.940002</td>\n",
       "      <td>125.540001</td>\n",
       "      <td>2386400.0</td>\n",
       "    </tr>\n",
       "    <tr>\n",
       "      <th>2016-01-07</th>\n",
       "      <td>WLTW</td>\n",
       "      <td>116.379997</td>\n",
       "      <td>114.949997</td>\n",
       "      <td>114.930000</td>\n",
       "      <td>119.739998</td>\n",
       "      <td>2489500.0</td>\n",
       "    </tr>\n",
       "    <tr>\n",
       "      <th>2016-01-08</th>\n",
       "      <td>WLTW</td>\n",
       "      <td>115.480003</td>\n",
       "      <td>116.620003</td>\n",
       "      <td>113.500000</td>\n",
       "      <td>117.440002</td>\n",
       "      <td>2006300.0</td>\n",
       "    </tr>\n",
       "    <tr>\n",
       "      <th>2016-01-11</th>\n",
       "      <td>WLTW</td>\n",
       "      <td>117.010002</td>\n",
       "      <td>114.970001</td>\n",
       "      <td>114.089996</td>\n",
       "      <td>117.330002</td>\n",
       "      <td>1408600.0</td>\n",
       "    </tr>\n",
       "    <tr>\n",
       "      <th>...</th>\n",
       "      <td>...</td>\n",
       "      <td>...</td>\n",
       "      <td>...</td>\n",
       "      <td>...</td>\n",
       "      <td>...</td>\n",
       "      <td>...</td>\n",
       "    </tr>\n",
       "    <tr>\n",
       "      <th>2016-12-30</th>\n",
       "      <td>ZBH</td>\n",
       "      <td>103.309998</td>\n",
       "      <td>103.199997</td>\n",
       "      <td>102.849998</td>\n",
       "      <td>103.930000</td>\n",
       "      <td>973800.0</td>\n",
       "    </tr>\n",
       "    <tr>\n",
       "      <th>2016-12-30</th>\n",
       "      <td>ZION</td>\n",
       "      <td>43.070000</td>\n",
       "      <td>43.040001</td>\n",
       "      <td>42.689999</td>\n",
       "      <td>43.310001</td>\n",
       "      <td>1938100.0</td>\n",
       "    </tr>\n",
       "    <tr>\n",
       "      <th>2016-12-30</th>\n",
       "      <td>ZTS</td>\n",
       "      <td>53.639999</td>\n",
       "      <td>53.529999</td>\n",
       "      <td>53.270000</td>\n",
       "      <td>53.740002</td>\n",
       "      <td>1701200.0</td>\n",
       "    </tr>\n",
       "    <tr>\n",
       "      <th>2016-12-30</th>\n",
       "      <td>AIV</td>\n",
       "      <td>44.730000</td>\n",
       "      <td>45.450001</td>\n",
       "      <td>44.410000</td>\n",
       "      <td>45.590000</td>\n",
       "      <td>1380900.0</td>\n",
       "    </tr>\n",
       "    <tr>\n",
       "      <th>2016-12-30</th>\n",
       "      <td>FTV</td>\n",
       "      <td>54.200001</td>\n",
       "      <td>53.630001</td>\n",
       "      <td>53.389999</td>\n",
       "      <td>54.480000</td>\n",
       "      <td>705100.0</td>\n",
       "    </tr>\n",
       "  </tbody>\n",
       "</table>\n",
       "<p>851258 rows × 6 columns</p>\n",
       "</div>"
      ],
      "text/plain": [
       "           symbol        open       close         low        high     volume\n",
       "date                                                                        \n",
       "2016-01-05   WLTW  123.430000  125.839996  122.309998  126.250000  2163600.0\n",
       "2016-01-06   WLTW  125.239998  119.980003  119.940002  125.540001  2386400.0\n",
       "2016-01-07   WLTW  116.379997  114.949997  114.930000  119.739998  2489500.0\n",
       "2016-01-08   WLTW  115.480003  116.620003  113.500000  117.440002  2006300.0\n",
       "2016-01-11   WLTW  117.010002  114.970001  114.089996  117.330002  1408600.0\n",
       "...           ...         ...         ...         ...         ...        ...\n",
       "2016-12-30    ZBH  103.309998  103.199997  102.849998  103.930000   973800.0\n",
       "2016-12-30   ZION   43.070000   43.040001   42.689999   43.310001  1938100.0\n",
       "2016-12-30    ZTS   53.639999   53.529999   53.270000   53.740002  1701200.0\n",
       "2016-12-30    AIV   44.730000   45.450001   44.410000   45.590000  1380900.0\n",
       "2016-12-30    FTV   54.200001   53.630001   53.389999   54.480000   705100.0\n",
       "\n",
       "[851258 rows x 6 columns]"
      ]
     },
     "execution_count": 9,
     "metadata": {},
     "output_type": "execute_result"
    }
   ],
   "source": [
    "data1.drop_duplicates()"
   ]
  },
  {
   "cell_type": "markdown",
   "metadata": {},
   "source": [
    "## Normalization"
   ]
  },
  {
   "cell_type": "code",
   "execution_count": null,
   "metadata": {},
   "outputs": [],
   "source": [
    "# refer to Datanormalization.ipynb"
   ]
  }
 ],
 "metadata": {
  "kernelspec": {
   "display_name": "base",
   "language": "python",
   "name": "python3"
  },
  "language_info": {
   "codemirror_mode": {
    "name": "ipython",
    "version": 3
   },
   "file_extension": ".py",
   "mimetype": "text/x-python",
   "name": "python",
   "nbconvert_exporter": "python",
   "pygments_lexer": "ipython3",
   "version": "3.10.13"
  }
 },
 "nbformat": 4,
 "nbformat_minor": 2
}
