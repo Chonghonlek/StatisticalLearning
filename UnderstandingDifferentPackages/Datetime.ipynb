{
 "cells": [
  {
   "cell_type": "markdown",
   "metadata": {},
   "source": [
    "help from:\n",
    "\n",
    "1) https://www.programiz.com/python-programming/datetime\n",
    "2) https://www.datacamp.com/tutorial/converting-strings-datetime-objects\n",
    "3) https://www.w3schools.com/python/python_datetime.asp"
   ]
  },
  {
   "cell_type": "code",
   "execution_count": 5,
   "metadata": {},
   "outputs": [],
   "source": [
    "import datetime as dt"
   ]
  },
  {
   "cell_type": "code",
   "execution_count": 8,
   "metadata": {},
   "outputs": [
    {
     "data": {
      "text/plain": [
       "datetime.datetime(2024, 5, 29, 13, 22, 25, 574101)"
      ]
     },
     "execution_count": 8,
     "metadata": {},
     "output_type": "execute_result"
    }
   ],
   "source": [
    "dt.datetime.now()"
   ]
  },
  {
   "cell_type": "code",
   "execution_count": 10,
   "metadata": {},
   "outputs": [
    {
     "data": {
      "text/plain": [
       "datetime.datetime(2020, 6, 7, 0, 0)"
      ]
     },
     "execution_count": 10,
     "metadata": {},
     "output_type": "execute_result"
    }
   ],
   "source": [
    "#Creating date time objects\n",
    "\n",
    "x = dt.datetime(2020,6,7) #year,month,day\n",
    "x"
   ]
  },
  {
   "cell_type": "code",
   "execution_count": 20,
   "metadata": {},
   "outputs": [
    {
     "name": "stdout",
     "output_type": "stream",
     "text": [
      "2022-12-28 23:55:59.342380\n"
     ]
    }
   ],
   "source": [
    "# datetime(year, month, day, hour, minute, second, microsecond)\n",
    "b = dt.datetime(2022, 12, 28, 23, 55, 59, 342380)\n",
    "print(b)"
   ]
  },
  {
   "cell_type": "code",
   "execution_count": 35,
   "metadata": {},
   "outputs": [
    {
     "data": {
      "text/plain": [
       "datetime.time(23, 55, 59, 342380)"
      ]
     },
     "execution_count": 35,
     "metadata": {},
     "output_type": "execute_result"
    }
   ],
   "source": [
    "# extract time from datetime\n",
    "b.time()"
   ]
  },
  {
   "cell_type": "code",
   "execution_count": 12,
   "metadata": {},
   "outputs": [
    {
     "name": "stdout",
     "output_type": "stream",
     "text": [
      "2024-05-29\n"
     ]
    }
   ],
   "source": [
    "## get current date\n",
    "current_date = dt.date.today()\n",
    "\n",
    "print(current_date)"
   ]
  },
  {
   "cell_type": "markdown",
   "metadata": {},
   "source": [
    "Among all the attributes of datetime module, the most commonly used classes in the datetime module are:\n",
    "\n",
    "datetime.datetime - represents a single point in time, including a date and a time.\n",
    "\n",
    "datetime.date - represents a date (year, month, and day) without a time.\n",
    "\n",
    "datetime.time - represents a time (hour, minute, second, and microsecond) without a date.\n",
    "\n",
    "datetime.timedelta - represents a duration, which can be used to perform arithmetic with datetime objects."
   ]
  },
  {
   "cell_type": "code",
   "execution_count": 13,
   "metadata": {},
   "outputs": [
    {
     "data": {
      "text/plain": [
       "datetime.date(2022, 10, 5)"
      ]
     },
     "execution_count": 13,
     "metadata": {},
     "output_type": "execute_result"
    }
   ],
   "source": [
    "dt.date(2022,10,5)"
   ]
  },
  {
   "cell_type": "code",
   "execution_count": 15,
   "metadata": {},
   "outputs": [
    {
     "name": "stdout",
     "output_type": "stream",
     "text": [
      "Date = 2012-01-11\n"
     ]
    }
   ],
   "source": [
    "\n",
    "timestamp = dt.date.fromtimestamp(1326244364)\n",
    "print(\"Date =\", timestamp)"
   ]
  },
  {
   "cell_type": "code",
   "execution_count": 17,
   "metadata": {},
   "outputs": [
    {
     "data": {
      "text/plain": [
       "(29, 5, 2024)"
      ]
     },
     "execution_count": 17,
     "metadata": {},
     "output_type": "execute_result"
    }
   ],
   "source": [
    "## want to get the year, month and day separately\n",
    "\n",
    "current_date.day,current_date.month,current_date.year"
   ]
  },
  {
   "cell_type": "code",
   "execution_count": 36,
   "metadata": {},
   "outputs": [
    {
     "name": "stdout",
     "output_type": "stream",
     "text": [
      "00:00:00\n",
      "11:34:56\n",
      "11:34:56\n",
      "11:34:56.234566\n"
     ]
    }
   ],
   "source": [
    "# time(hour = 0, minute = 0, second = 0)\n",
    "a = dt.time()\n",
    "print(a)\n",
    "\n",
    "# time(hour, minute and second)\n",
    "b = dt.time(11, 34, 56)\n",
    "print(b)\n",
    "\n",
    "# time(hour, minute and second)\n",
    "c = dt.time(hour = 11, minute = 34, second = 56)\n",
    "print(c)\n",
    "\n",
    "# time(hour, minute, second, microsecond)\n",
    "d = dt.time(11, 34, 56, 234566)\n",
    "print(d)"
   ]
  },
  {
   "cell_type": "code",
   "execution_count": 37,
   "metadata": {},
   "outputs": [
    {
     "data": {
      "text/plain": [
       "(11, 34, 56)"
      ]
     },
     "execution_count": 37,
     "metadata": {},
     "output_type": "execute_result"
    }
   ],
   "source": [
    "c.hour,c.minute,c.second"
   ]
  },
  {
   "cell_type": "code",
   "execution_count": 21,
   "metadata": {},
   "outputs": [
    {
     "name": "stdout",
     "output_type": "stream",
     "text": [
      "t3 = 201 days, 0:00:00\n",
      "t6 = -333 days, 1:14:20\n",
      "Type of t3 = <class 'datetime.timedelta'>\n",
      "Type of t6 = <class 'datetime.timedelta'>\n"
     ]
    }
   ],
   "source": [
    "## timedelta - represents difference between 2 dates or time\n",
    "\n",
    "from datetime import datetime, date\n",
    "\n",
    "# using date()\n",
    "t1 = date(year = 2018, month = 7, day = 12)\n",
    "t2 = date(year = 2017, month = 12, day = 23)\n",
    "\n",
    "t3 = t1 - t2\n",
    "\n",
    "print(\"t3 =\", t3)\n",
    "\n",
    "# using datetime()\n",
    "t4 = datetime(year = 2018, month = 7, day = 12, hour = 7, minute = 9, second = 33)\n",
    "t5 = datetime(year = 2019, month = 6, day = 10, hour = 5, minute = 55, second = 13)\n",
    "t6 = t4 - t5\n",
    "print(\"t6 =\", t6)\n",
    "\n",
    "print(\"Type of t3 =\", type(t3)) \n",
    "print(\"Type of t6 =\", type(t6))  \n",
    "\n"
   ]
  },
  {
   "cell_type": "code",
   "execution_count": 22,
   "metadata": {},
   "outputs": [],
   "source": [
    "from datetime import timedelta\n",
    "\n",
    "\n",
    "# create a timedelta object representing 3 hours and 15 minutes\n",
    "event_duration = timedelta(hours=3, minutes=15)\n",
    "\n",
    "# get the total duration in seconds\n",
    "event_duration_seconds = event_duration.total_seconds()\n",
    "\n",
    "# add the duration to a start time to get an end time\n",
    "event_start_time = datetime(2023, 3, 1, 18, 15)\n",
    "event_end_time = event_start_time + event_duration"
   ]
  },
  {
   "cell_type": "code",
   "execution_count": 25,
   "metadata": {},
   "outputs": [
    {
     "data": {
      "text/plain": [
       "(datetime.timedelta(seconds=11700), datetime.timedelta(seconds=11700))"
      ]
     },
     "execution_count": 25,
     "metadata": {},
     "output_type": "execute_result"
    }
   ],
   "source": [
    "event_duration1 = timedelta(hours=3, minutes=15)\n",
    "event_duration,event_duration1"
   ]
  },
  {
   "cell_type": "code",
   "execution_count": 24,
   "metadata": {},
   "outputs": [
    {
     "data": {
      "text/plain": [
       "11700.0"
      ]
     },
     "execution_count": 24,
     "metadata": {},
     "output_type": "execute_result"
    }
   ],
   "source": [
    "event_duration_seconds"
   ]
  },
  {
   "cell_type": "code",
   "execution_count": 27,
   "metadata": {},
   "outputs": [
    {
     "data": {
      "text/plain": [
       "(datetime.datetime(2023, 3, 1, 18, 15), datetime.datetime(2023, 3, 1, 21, 30))"
      ]
     },
     "execution_count": 27,
     "metadata": {},
     "output_type": "execute_result"
    }
   ],
   "source": [
    "event_start_time,event_end_time"
   ]
  },
  {
   "cell_type": "code",
   "execution_count": 28,
   "metadata": {},
   "outputs": [
    {
     "name": "stdout",
     "output_type": "stream",
     "text": [
      "t3 = 14 days, 13:55:39\n"
     ]
    }
   ],
   "source": [
    "from datetime import timedelta\n",
    "\n",
    "t1 = timedelta(weeks = 2, days = 5, hours = 1, seconds = 33)\n",
    "t2 = timedelta(days = 4, hours = 11, minutes = 4, seconds = 54)\n",
    "\n",
    "t3 = t1 - t2\n",
    "\n",
    "print(\"t3 =\", t3)"
   ]
  },
  {
   "cell_type": "markdown",
   "metadata": {},
   "source": [
    "The way date and time are represented may be different in different places, organizations, etc. It's more common to use mm/dd/yyyy in the US, whereas dd/mm/yyyy is more common in the UK.\n",
    "\n",
    "Python has strftime()  - transform\n",
    "\n",
    "and strptime() - parse string to datetime\n",
    "\n",
    "methods to handle this."
   ]
  },
  {
   "cell_type": "markdown",
   "metadata": {},
   "source": [
    "%a\tWeekday, short version\tWed\t\n",
    "\n",
    "%A\tWeekday, full version\tWednesday\t\n",
    "\n",
    "%w\tWeekday as a number 0-6, 0 is Sunday\t3\n",
    "\n",
    "%d\tDay of month 01-31\t31\n",
    "\n",
    "%b\tMonth name, short version\tDec\n",
    "\n",
    "%B\tMonth name, full version\tDecember\n",
    "\n",
    "%m\tMonth as a number 01-12\t12\n",
    "\n",
    "%y\tYear, short version, without century\t18\n",
    "\n",
    "%Y\tYear, full version\t2018\n",
    "\n",
    "%H\tHour 00-23\t17\n",
    "\n",
    "%I\tHour 00-12\t05\n",
    "\n",
    "%p\tAM/PM\tPM\n",
    "\n",
    "%M\tMinute 00-59\t41\n",
    "\n",
    "%S\tSecond 00-59\t08\n",
    "\n",
    "%f\tMicrosecond 000000-999999\t548513\n",
    "\n",
    "%z\tUTC offset\t+0100\n",
    "\n",
    "%Z\tTimezone\tCST\n",
    "\n",
    "%j\tDay number of year 001-366\t365\n",
    "\n",
    "%U\tWeek number of year, Sunday as the first day of week, 00-53\t52\n",
    "\n",
    "%W\tWeek number of year, Monday as the first day of week, 00-53\t52\n",
    "\n",
    "%c\tLocal version of date and time\tMon Dec 31 17:41:00 2018\n",
    "\n",
    "%C\tCentury\t20\n",
    "\n",
    "%x\tLocal version of date\t12/31/18\n",
    "\n",
    "%X\tLocal version of time\t17:41:00\n",
    "\n",
    "%%\tA % character\t%\n",
    "\n",
    "%G\tISO 8601 year\t2018\n",
    "\n",
    "%u\tISO 8601 weekday (1-7)\t1\n",
    "\t\n",
    "%V\tISO 8601 weeknumber (01-53)\t01"
   ]
  },
  {
   "cell_type": "code",
   "execution_count": 29,
   "metadata": {},
   "outputs": [
    {
     "name": "stdout",
     "output_type": "stream",
     "text": [
      "Time: 13:55:52\n",
      "s1: 05/29/2024, 13:55:52\n",
      "s2: 29/05/2024, 13:55:52\n"
     ]
    }
   ],
   "source": [
    "from datetime import datetime\n",
    "\n",
    "# current date and time\n",
    "now = datetime.now()\n",
    "\n",
    "t = now.strftime(\"%H:%M:%S\")\n",
    "print(\"Time:\", t)\n",
    "\n",
    "s1 = now.strftime(\"%m/%d/%Y, %H:%M:%S\")\n",
    "# mm/dd/YY H:M:S format\n",
    "print(\"s1:\", s1)\n",
    "\n",
    "s2 = now.strftime(\"%d/%m/%Y, %H:%M:%S\")\n",
    "# dd/mm/YY H:M:S format\n",
    "print(\"s2:\", s2)"
   ]
  },
  {
   "cell_type": "markdown",
   "metadata": {},
   "source": [
    "The strptime() method takes two arguments:\n",
    "\n",
    "a string representing date and time\n",
    "format code equivalent to the first argument\n",
    "By the way, %d, %B and %Y format codes are used for day, month(full name) and year respectively."
   ]
  },
  {
   "cell_type": "code",
   "execution_count": 30,
   "metadata": {},
   "outputs": [
    {
     "name": "stdout",
     "output_type": "stream",
     "text": [
      "date_string = 25 December, 2022\n",
      "date_object = 2022-12-25 00:00:00\n"
     ]
    }
   ],
   "source": [
    "from datetime import datetime\n",
    "\n",
    "date_string = \"25 December, 2022\"\n",
    "print(\"date_string =\", date_string)\n",
    "\n",
    "# use strptime() to create date object\n",
    "date_object = datetime.strptime(date_string, \"%d %B, %Y\")\n",
    "\n",
    "print(\"date_object =\", date_object)\n",
    "\n"
   ]
  },
  {
   "cell_type": "code",
   "execution_count": 33,
   "metadata": {},
   "outputs": [
    {
     "name": "stdout",
     "output_type": "stream",
     "text": [
      "2023-02-28 14:30:00\n",
      "2023-02-28 14:30:00\n"
     ]
    }
   ],
   "source": [
    "from datetime import datetime\n",
    "\n",
    "# Example with the standard date and time format\n",
    "date_str = '2023-02-28 14:30:00'\n",
    "date_format = '%Y-%m-%d %H:%M:%S'\n",
    "\n",
    "date_obj = datetime.strptime(date_str, date_format)\n",
    "print(date_obj)\n",
    "\n",
    "# Example with a different format\n",
    "\n",
    "date_str = '02/28/2023 02:30 PM'\n",
    "date_format = '%m/%d/%Y %I:%M %p'\n",
    "\n",
    "date_obj = datetime.strptime(date_str, date_format)\n",
    "print(date_obj)"
   ]
  },
  {
   "cell_type": "code",
   "execution_count": null,
   "metadata": {},
   "outputs": [],
   "source": []
  },
  {
   "cell_type": "markdown",
   "metadata": {},
   "source": [
    "## TIMEZONES"
   ]
  },
  {
   "cell_type": "code",
   "execution_count": 31,
   "metadata": {},
   "outputs": [
    {
     "name": "stdout",
     "output_type": "stream",
     "text": [
      "Local: 05/29/2024, 13:57:21\n",
      "NY: 05/29/2024, 01:57:23\n",
      "London: 05/29/2024, 06:57:23\n"
     ]
    }
   ],
   "source": [
    "from datetime import datetime\n",
    "import pytz\n",
    "\n",
    "local = datetime.now()\n",
    "print(\"Local:\", local.strftime(\"%m/%d/%Y, %H:%M:%S\"))\n",
    "\n",
    "\n",
    "tz_NY = pytz.timezone('America/New_York') \n",
    "datetime_NY = datetime.now(tz_NY)\n",
    "print(\"NY:\", datetime_NY.strftime(\"%m/%d/%Y, %H:%M:%S\"))\n",
    "\n",
    "tz_London = pytz.timezone('Europe/London')\n",
    "datetime_London = datetime.now(tz_London)\n",
    "print(\"London:\", datetime_London.strftime(\"%m/%d/%Y, %H:%M:%S\"))"
   ]
  },
  {
   "cell_type": "code",
   "execution_count": 32,
   "metadata": {},
   "outputs": [
    {
     "data": {
      "text/plain": [
       "datetime.datetime(2024, 5, 29, 1, 57, 23, 771490, tzinfo=<DstTzInfo 'America/New_York' EDT-1 day, 20:00:00 DST>)"
      ]
     },
     "execution_count": 32,
     "metadata": {},
     "output_type": "execute_result"
    }
   ],
   "source": [
    "datetime_NY"
   ]
  },
  {
   "cell_type": "markdown",
   "metadata": {},
   "source": [
    "## TimeSeries plot\n",
    "\n",
    "for some reason, default x-axis for datetime object must contain date and time. \n",
    "\n",
    "it does not work for time only"
   ]
  },
  {
   "cell_type": "code",
   "execution_count": 38,
   "metadata": {},
   "outputs": [
    {
     "data": {
      "text/plain": [
       "Text(0, 0.5, 'Classes')"
      ]
     },
     "execution_count": 38,
     "metadata": {},
     "output_type": "execute_result"
    },
    {
     "data": {
      "image/png": "[encoded data removed]",
      "text/plain": [
       "<Figure size 640x480 with 1 Axes>"
      ]
     },
     "metadata": {},
     "output_type": "display_data"
    }
   ],
   "source": [
    "# Initialising required libraries\n",
    "import pandas as pd\n",
    "import matplotlib.pyplot as plt\n",
    "import datetime\n",
    "import numpy as np\n",
    "\n",
    "# ABC colllege classes by date- from 01-11-2021 to 07-11-2021\n",
    "abc = pd.DataFrame({'date_of_week': np.array([datetime.datetime(2021, 11, i+1)\n",
    "\t\t\t\t\t\t\t\t\t\t\tfor i in range(7)]), \n",
    "\t\t\t\t\t'classes': [5, 6, 8, 2, 3, 7, 4]})\n",
    "\n",
    "\n",
    "# XYZ colllege classes by date - from 01-11-2021 to 07-11-2021\n",
    "xyz = pd.DataFrame({'date_of_week': np.array([datetime.datetime(2021, 11, i+1)\n",
    "\t\t\t\t\t\t\t\t\t\t\tfor i in range(7)]), \n",
    "\t\t\t\t\t'classes': [2, 3, 7, 3, 4, 1, 2]})\n",
    "\n",
    "# plotting the time series of ABC college dataframe\n",
    "plt.plot(abc.date_of_week, abc.classes)\n",
    "\n",
    "# plotting the time series of XYZ college dataframe\n",
    "plt.plot(xyz.date_of_week, xyz.classes, color='green')\n",
    "\n",
    "# Giving title to the graph\n",
    "plt.title('Classes by Date')\n",
    "\n",
    "# rotating the x-axis tick labels at 30degree \n",
    "# towards right\n",
    "plt.xticks(rotation=30, ha='right')\n",
    "\n",
    "# Giving x and y label to the graph\n",
    "plt.xlabel('Date')\n",
    "plt.ylabel('Classes')\n"
   ]
  },
  {
   "cell_type": "code",
   "execution_count": null,
   "metadata": {},
   "outputs": [],
   "source": [
    "# for time and minute to be your x axis:\n",
    "\n",
    "import matplotlib.dates as md\n",
    "\n",
    "# after your line of plot\n",
    "plt.gca().xaxis.set_major_formatter(md.DateFormatter('%H:%M'))\n",
    "\n",
    "\n",
    "#15 minutes span for the ticks\n",
    "plt.gca().xaxis.set_major_locator(md.MinuteLocator(byminute = [0, 15, 30, 45]))"
   ]
  }
 ],
 "metadata": {
  "kernelspec": {
   "display_name": "base",
   "language": "python",
   "name": "python3"
  },
  "language_info": {
   "codemirror_mode": {
    "name": "ipython",
    "version": 3
   },
   "file_extension": ".py",
   "mimetype": "text/x-python",
   "name": "python",
   "nbconvert_exporter": "python",
   "pygments_lexer": "ipython3",
   "version": "3.10.13"
  }
 },
 "nbformat": 4,
 "nbformat_minor": 2
}
